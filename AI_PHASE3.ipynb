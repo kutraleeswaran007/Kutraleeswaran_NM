{
 "cells": [
  {
   "cell_type": "markdown",
   "id": "53e49c86",
   "metadata": {},
   "source": [
    "# Import the necessary libraries\n",
    "\n",
    "numpy:\n",
    "\n",
    "        NumPy is a library for scientific computing in Python. It provides a high-performance multidimensional array object, as well as a variety of function for mathematical operations on arrays.\n",
    "\n",
    "pandas:\n",
    "\n",
    "            Pandas is a library for data analysis and manipulation in Python. It provides a number of data structures and functions for working with data in a tabular format.\n",
    "\n",
    "string: \n",
    "    \n",
    "    The string library provides a number of functions for working with strings in Python."
   ]
  },
  {
   "cell_type": "code",
   "execution_count": null,
   "id": "0f8207ef",
   "metadata": {},
   "outputs": [],
   "source": [
    "#numpy module performs advanced mathematical operations\n",
    "import numpy as np\n",
    "\n",
    "#string module provides the necessary functions to manipulate the string\n",
    "import string               \n",
    "\n",
    "#pandas module is used to perform data manipulation and analysis\n",
    "import pandas as pd"
   ]
  },
  {
   "cell_type": "markdown",
   "id": "26c2b253",
   "metadata": {},
   "source": [
    "# Load the dataset"
   ]
  },
  {
   "cell_type": "code",
   "execution_count": null,
   "id": "94f6e0e4",
   "metadata": {},
   "outputs": [],
   "source": [
    "#Load the dataset into a pandas dataframe\n",
    "\n",
    "df = pd.read_csv('dialogs.txt', sep='\\t')"
   ]
  },
  {
   "cell_type": "markdown",
   "id": "8de5be18",
   "metadata": {},
   "source": [
    "# Add some common queries to the dataset"
   ]
  },
  {
   "cell_type": "code",
   "execution_count": null,
   "id": "1d9a1d73",
   "metadata": {},
   "outputs": [],
   "source": [
    "#The column name is the first row in the dataset\n",
    "\n",
    "a = pd.Series(df.columns)\n",
    "a = a.rename({0: df.columns[0], 1: df.columns[1]})\n",
    "\n",
    "#Some common conversations\n",
    "b = {'Qestions': 'Hi', 'Answers': 'hello'}\n",
    "c = {'Questions': 'Hello', 'Answers': 'hi'}\n",
    "d = {'Questions': 'how are you', 'Answers': \"i'm fine. how about yourself?\"}\n",
    "e = {'Questions': 'how are you doing', 'Answers': \"i'm fine. how about yourself?\"}\n",
    "\n",
    "#Add the first row to the dataset\n",
    "df = df.append(a, ignore_index=True)\n",
    "\n",
    "#Replace the column name with \"Questions\" and \"Answers\"\n",
    "df.columns = ['Questions', 'Answers']\n",
    "\n",
    "#Adding those converstions to the dataframe object\n",
    "df = df.append(b,ignore_index=True)\n",
    "df = df.append(c,ignore_index=True)\n",
    "df = df.append(d,ignore_index=True)\n",
    "df = df.append(e,ignore_index=True)"
   ]
  },
  {
   "cell_type": "markdown",
   "id": "a2e44110",
   "metadata": {},
   "source": [
    "# Clean the dataset\n",
    "\n",
    "            The simple_cleaner() function can be used to clean the text data before extracting keywords from text. This keywords are then used to map the intents to the corresponding response."
   ]
  },
  {
   "cell_type": "code",
   "execution_count": null,
   "id": "0f61ef1e",
   "metadata": {},
   "outputs": [],
   "source": [
    "#The perpose of this function is to perform data cleansing on the given dataset\n",
    "#This function is called in the pipeline creation and used in the vectorizer layer to clean the dataset\n",
    "\n",
    "def simple_cleaner(x):\n",
    "    cleaned_text = []\n",
    "    for character in x:\n",
    "        if character not in string.punctuation:\n",
    "            cleaned_text.append(character.lower())\n",
    "    \n",
    "    words = ''.join(cleaned_text).split()\n",
    "    return words"
   ]
  },
  {
   "cell_type": "code",
   "execution_count": null,
   "id": "2f6ec9d4",
   "metadata": {},
   "outputs": [],
   "source": []
  }
 ],
 "metadata": {
  "kernelspec": {
   "display_name": "Python 3 (ipykernel)",
   "language": "python",
   "name": "python3"
  },
  "language_info": {
   "codemirror_mode": {
    "name": "ipython",
    "version": 3
   },
   "file_extension": ".py",
   "mimetype": "text/x-python",
   "name": "python",
   "nbconvert_exporter": "python",
   "pygments_lexer": "ipython3",
   "version": "3.9.12"
  }
 },
 "nbformat": 4,
 "nbformat_minor": 5
}
