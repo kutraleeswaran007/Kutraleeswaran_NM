{
 "cells": [
  {
   "cell_type": "markdown",
   "id": "a673afa2",
   "metadata": {},
   "source": [
    "# Import the necessary libraries\n",
    "\n",
    "numpy:\n",
    "\n",
    "        NumPy is a library for scientific computing in Python. It provides a high-performance multidimensional array object, as well as a variety of function for mathematical operations on arrays.\n",
    "\n",
    "pandas:\n",
    "\n",
    "            Pandas is a library for data analysis and manipulation in Python. It provides a number of data structures and functions for working with data in a tabular format.\n",
    "\n",
    "string: \n",
    "    \n",
    "    The string library provides a number of functions for working with strings in Python.\n",
    "\n",
    "sklearn.feature_extraction.text: \n",
    "    \n",
    "    This library provides a number of tools for extracting features from text data, such as count vectors and TF-IDF vectors.\n",
    "\n",
    "sklearn.tree: \n",
    "\n",
    "    This library provides a number of tools for training and using decision trees, which are a type of machine learning algorithm.\n",
    "\n",
    "sklearn.pipeline: \n",
    "\n",
    "    This library provides a way to combine multiple machine learning algorithms into a single pipeline."
   ]
  },
  {
   "cell_type": "code",
   "execution_count": 9,
   "id": "9ae29bf7",
   "metadata": {},
   "outputs": [],
   "source": [
    "import numpy as np\n",
    "import string\n",
    "from sklearn.feature_extraction.text import CountVectorizer, TfidfTransformer\n",
    "from sklearn.tree import DecisionTreeClassifier\n",
    "from sklearn.pipeline import Pipeline\n",
    "import pandas as pd"
   ]
  },
  {
   "cell_type": "markdown",
   "id": "ae8f2f5d",
   "metadata": {},
   "source": [
    "# Load the dataset"
   ]
  },
  {
   "cell_type": "code",
   "execution_count": 10,
   "id": "cd9f6952",
   "metadata": {},
   "outputs": [],
   "source": [
    "df = pd.read_csv('dialogs.txt', sep='\\t')"
   ]
  },
  {
   "cell_type": "markdown",
   "id": "9c9f9470",
   "metadata": {},
   "source": [
    "# Add some common queries to the dataset"
   ]
  },
  {
   "cell_type": "code",
   "execution_count": 11,
   "id": "dd3b718a",
   "metadata": {},
   "outputs": [
    {
     "name": "stderr",
     "output_type": "stream",
     "text": [
      "C:\\Users\\manoj\\AppData\\Local\\Temp\\ipykernel_13696\\2230229625.py:7: FutureWarning: The frame.append method is deprecated and will be removed from pandas in a future version. Use pandas.concat instead.\n",
      "  df = df.append(a, ignore_index=True)\n",
      "C:\\Users\\manoj\\AppData\\Local\\Temp\\ipykernel_13696\\2230229625.py:9: FutureWarning: The frame.append method is deprecated and will be removed from pandas in a future version. Use pandas.concat instead.\n",
      "  df = df.append([b, c, d, e], ignore_index=True)\n"
     ]
    }
   ],
   "source": [
    "a = pd.Series(df.columns)\n",
    "a = a.rename({0: df.columns[0], 1: df.columns[1]})\n",
    "b = {'Questions': 'Hi', 'Answers': 'hello'}\n",
    "c = {'Questions': 'Hello', 'Answers': 'hi'}\n",
    "d = {'Questions': 'how are you', 'Answers': \"i'm fine. how about yourself?\"}\n",
    "e = {'Questions': 'how are you doing', 'Answers': \"i'm fine. how about yourself?\"}\n",
    "df = df.append(a, ignore_index=True)\n",
    "df.columns = ['Questions', 'Answers']\n",
    "df = df.append([b, c, d, e], ignore_index=True)"
   ]
  },
  {
   "cell_type": "markdown",
   "id": "29255bc5",
   "metadata": {},
   "source": [
    "# Clean the dataset\n",
    "\n",
    "            The simple_cleaner() function can be used to clean the text data before extracting keywords from text. This keywords are then used to map the intents to the corresponding response."
   ]
  },
  {
   "cell_type": "code",
   "execution_count": 12,
   "id": "b08c5f57",
   "metadata": {},
   "outputs": [],
   "source": [
    "def simple_cleaner(x):\n",
    "    cleaned_text = []\n",
    "    for character in x:\n",
    "        if character not in string.punctuation:\n",
    "            cleaned_text.append(character.lower())\n",
    "    \n",
    "    words = ''.join(cleaned_text).split()\n",
    "    return words"
   ]
  },
  {
   "cell_type": "markdown",
   "id": "5bbc84a2",
   "metadata": {},
   "source": [
    "# Create a pipeline using sklearn\n",
    "\n",
    "    We create a Pipeline object that consists of three steps:\n",
    "        =>  CountVectorizer object to convert the text data into a bag-of-words (BOW) representation.\n",
    "        =>  TfidfTransformer object to transform the BOW representation into a TF-IDF representation.\n",
    "        =>  DecisionTreeClassifier object to classify the TF-IDF representation into different categories.\n",
    "        \n",
    "    The fit() method is then used to train the pipeline on the training data."
   ]
  },
  {
   "cell_type": "code",
   "execution_count": 13,
   "id": "72f20e6c",
   "metadata": {},
   "outputs": [
    {
     "data": {
      "text/plain": [
       "Pipeline(steps=[('bow',\n",
       "                 CountVectorizer(analyzer=<function simple_cleaner at 0x00000161A07A7310>)),\n",
       "                ('tfidf', TfidfTransformer()),\n",
       "                ('classifier', DecisionTreeClassifier())])"
      ]
     },
     "execution_count": 13,
     "metadata": {},
     "output_type": "execute_result"
    }
   ],
   "source": [
    "Pipe = Pipeline([\n",
    "    ('bow', CountVectorizer(analyzer=simple_cleaner)),\n",
    "    ('tfidf', TfidfTransformer()),\n",
    "    ('classifier', DecisionTreeClassifier())\n",
    "])\n",
    "\n",
    "Pipe.fit(df['Questions'], df['Answers'])"
   ]
  },
  {
   "cell_type": "markdown",
   "id": "611bd899",
   "metadata": {},
   "source": [
    "The get_response() function then returns the chatbot's response to the query by calling the predict() method on the pipeline."
   ]
  },
  {
   "cell_type": "code",
   "execution_count": 14,
   "id": "ebd90579",
   "metadata": {},
   "outputs": [],
   "source": [
    "def get_response(input_text):\n",
    "    response = Pipe.predict([input_text])[0]\n",
    "    return response"
   ]
  },
  {
   "cell_type": "markdown",
   "id": "841ba278",
   "metadata": {},
   "source": [
    "# Main function\n",
    "\n",
    "    In this part we get the user input to which the bot replies with the corresponding response"
   ]
  },
  {
   "cell_type": "code",
   "execution_count": 15,
   "id": "a01309c1",
   "metadata": {},
   "outputs": [
    {
     "name": "stdout",
     "output_type": "stream",
     "text": [
      "User  :Hi\n",
      "Bot: hello\n",
      "User  :how are you doing?\t\n",
      "Bot: i'm fine. how about yourself?\n",
      "User  :how's it going?\n",
      "Bot: i'm doing well. how about you?\n",
      "User  :bye\n",
      "Bot: Thank You\n"
     ]
    }
   ],
   "source": [
    "while True:\n",
    "  user_input = input(\"User  :\")\n",
    "  response = get_response(user_input)\n",
    "  if user_input==\"bye\":\n",
    "    print(\"Bot: Thank You\")\n",
    "    break\n",
    "  print(f\"Bot: {response}\")"
   ]
  },
  {
   "cell_type": "code",
   "execution_count": null,
   "id": "38df2da1",
   "metadata": {},
   "outputs": [],
   "source": []
  }
 ],
 "metadata": {
  "kernelspec": {
   "display_name": "Python 3 (ipykernel)",
   "language": "python",
   "name": "python3"
  },
  "language_info": {
   "codemirror_mode": {
    "name": "ipython",
    "version": 3
   },
   "file_extension": ".py",
   "mimetype": "text/x-python",
   "name": "python",
   "nbconvert_exporter": "python",
   "pygments_lexer": "ipython3",
   "version": "3.9.12"
  }
 },
 "nbformat": 4,
 "nbformat_minor": 5
}
